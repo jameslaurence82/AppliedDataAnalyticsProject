{
 "cells": [
  {
   "cell_type": "code",
   "execution_count": 4,
   "metadata": {},
   "outputs": [
    {
     "data": {
      "text/html": [
       "<div>\n",
       "<style scoped>\n",
       "    .dataframe tbody tr th:only-of-type {\n",
       "        vertical-align: middle;\n",
       "    }\n",
       "\n",
       "    .dataframe tbody tr th {\n",
       "        vertical-align: top;\n",
       "    }\n",
       "\n",
       "    .dataframe thead th {\n",
       "        text-align: right;\n",
       "    }\n",
       "</style>\n",
       "<table border=\"1\" class=\"dataframe\">\n",
       "  <thead>\n",
       "    <tr style=\"text-align: right;\">\n",
       "      <th></th>\n",
       "      <th>Date</th>\n",
       "      <th>Open</th>\n",
       "      <th>High</th>\n",
       "      <th>Low</th>\n",
       "      <th>Close</th>\n",
       "      <th>Adj Close</th>\n",
       "      <th>Volume</th>\n",
       "    </tr>\n",
       "  </thead>\n",
       "  <tbody>\n",
       "    <tr>\n",
       "      <th>0</th>\n",
       "      <td>2001-01-02</td>\n",
       "      <td>52.450001</td>\n",
       "      <td>53.700001</td>\n",
       "      <td>50.500000</td>\n",
       "      <td>51.700001</td>\n",
       "      <td>29.636600</td>\n",
       "      <td>123327.0</td>\n",
       "    </tr>\n",
       "    <tr>\n",
       "      <th>1</th>\n",
       "      <td>2001-01-03</td>\n",
       "      <td>51.200001</td>\n",
       "      <td>54.000000</td>\n",
       "      <td>51.099998</td>\n",
       "      <td>53.200001</td>\n",
       "      <td>30.496454</td>\n",
       "      <td>165369.0</td>\n",
       "    </tr>\n",
       "    <tr>\n",
       "      <th>2</th>\n",
       "      <td>2001-01-04</td>\n",
       "      <td>54.700001</td>\n",
       "      <td>54.750000</td>\n",
       "      <td>51.700001</td>\n",
       "      <td>53.400002</td>\n",
       "      <td>30.611107</td>\n",
       "      <td>387466.0</td>\n",
       "    </tr>\n",
       "    <tr>\n",
       "      <th>3</th>\n",
       "      <td>2001-01-05</td>\n",
       "      <td>53.099998</td>\n",
       "      <td>55.000000</td>\n",
       "      <td>49.759998</td>\n",
       "      <td>51.000000</td>\n",
       "      <td>29.235334</td>\n",
       "      <td>600703.0</td>\n",
       "    </tr>\n",
       "    <tr>\n",
       "      <th>4</th>\n",
       "      <td>2001-01-08</td>\n",
       "      <td>50.000000</td>\n",
       "      <td>50.750000</td>\n",
       "      <td>49.560001</td>\n",
       "      <td>50.000000</td>\n",
       "      <td>28.662081</td>\n",
       "      <td>217065.0</td>\n",
       "    </tr>\n",
       "  </tbody>\n",
       "</table>\n",
       "</div>"
      ],
      "text/plain": [
       "         Date       Open       High        Low      Close  Adj Close    Volume\n",
       "0  2001-01-02  52.450001  53.700001  50.500000  51.700001  29.636600  123327.0\n",
       "1  2001-01-03  51.200001  54.000000  51.099998  53.200001  30.496454  165369.0\n",
       "2  2001-01-04  54.700001  54.750000  51.700001  53.400002  30.611107  387466.0\n",
       "3  2001-01-05  53.099998  55.000000  49.759998  51.000000  29.235334  600703.0\n",
       "4  2001-01-08  50.000000  50.750000  49.560001  50.000000  28.662081  217065.0"
      ]
     },
     "execution_count": 4,
     "metadata": {},
     "output_type": "execute_result"
    }
   ],
   "source": [
    "import pandas as pd\n",
    "\n",
    "# load the thales stock price csv\n",
    "thales = pd.read_csv('thales_stock_prices.csv')\n",
    "thales.head()"
   ]
  },
  {
   "cell_type": "code",
   "execution_count": 8,
   "metadata": {},
   "outputs": [
    {
     "ename": "TypeError",
     "evalue": "'method' object is not subscriptable",
     "output_type": "error",
     "traceback": [
      "\u001b[1;31m---------------------------------------------------------------------------\u001b[0m",
      "\u001b[1;31mTypeError\u001b[0m                                 Traceback (most recent call last)",
      "Cell \u001b[1;32mIn[8], line 2\u001b[0m\n\u001b[0;32m      1\u001b[0m thalesna \u001b[38;5;241m=\u001b[39m thales\u001b[38;5;241m.\u001b[39mdropna()\n\u001b[1;32m----> 2\u001b[0m thalesna\u001b[38;5;241m.\u001b[39mcolumns\u001b[38;5;241m.\u001b[39mdrop[\u001b[38;5;241m0\u001b[39m]\n",
      "\u001b[1;31mTypeError\u001b[0m: 'method' object is not subscriptable"
     ]
    }
   ],
   "source": [
    "thalesna = thales.dropna()"
   ]
  },
  {
   "cell_type": "code",
   "execution_count": 9,
   "metadata": {},
   "outputs": [],
   "source": [
    "thalesna.isnull().value_counts()\n",
    "thalesna.to_csv(\"nonullThales.csv\", index=False)"
   ]
  }
 ],
 "metadata": {
  "kernelspec": {
   "display_name": "base",
   "language": "python",
   "name": "python3"
  },
  "language_info": {
   "codemirror_mode": {
    "name": "ipython",
    "version": 3
   },
   "file_extension": ".py",
   "mimetype": "text/x-python",
   "name": "python",
   "nbconvert_exporter": "python",
   "pygments_lexer": "ipython3",
   "version": "3.11.5"
  }
 },
 "nbformat": 4,
 "nbformat_minor": 2
}
